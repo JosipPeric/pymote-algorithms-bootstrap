{
 "cells": [
  {
   "cell_type": "code",
   "execution_count": 1,
   "metadata": {
    "collapsed": false
   },
   "outputs": [
    {
     "name": "stdout",
     "output_type": "stream",
     "text": [
      "Populating the interactive namespace from numpy and matplotlib\n",
      "13:46:47.842:        id: 31\n",
      "13:46:47.843:     group: 212\n",
      "13:46:47.844: frequency: 868 MHz\n",
      "13:46:47.845:   collect: True\n",
      "13:46:47.846:    offset: 1600\n",
      "13:46:47.847:     quiet: True\n",
      "13:46:47.847:    format: hex\n"
     ]
    }
   ],
   "source": [
    "from utils import *\n",
    "from rf12demo.rf12demo import Rf12Demo\n",
    "import logging, time\n",
    "import logging\n",
    "from networkx import minimum_spanning_tree\n",
    "plogger = logging.getLogger('pymote')\n",
    "plogger.setLevel(logging.ERROR+1)\n",
    "#%load_ext autoreload\n",
    "#%autoreload 2\n",
    "%pylab inline\n",
    "\n",
    "if \"jeelink\" in locals() and not jeelink.closed:\n",
    "    jeelink.close()\n",
    "jeelink = Rf12Demo(payload_header, payload_body, port='/dev/ttyUSB2', baudrate=57600, timeout=1)\n",
    "fileHandler = logging.handlers.RotatingFileHandler('rf12demo.log')\n",
    "fileHandler.setFormatter(jeelink.loghandler.formatter)\n",
    "jeelink.logger.addHandler(fileHandler)"
   ]
  },
  {
   "cell_type": "code",
   "execution_count": 54,
   "metadata": {
    "collapsed": false
   },
   "outputs": [
    {
     "data": {
      "image/png": "[encoded data removed]",
      "text/plain": [
       "<matplotlib.figure.Figure at 0x7f0f9d0f9e50>"
      ]
     },
     "metadata": {},
     "output_type": "display_data"
    }
   ],
   "source": [
    "from pymote import NetworkGenerator\n",
    "\n",
    "NODES = [1, 2, 3, 4, 6, 7, 9, 10]\n",
    "#NODES = [6, 7, 9, 10]\n",
    "#NODES = [1, 2, 3, 4]\n",
    "\n",
    "\n",
    "net_gen = NetworkGenerator(len(NODES))\n",
    "net = net_gen.generate_random_network()\n",
    "graf = minimum_spanning_tree(net)\n",
    "net.adj = graf.adj\n",
    "for i, node in enumerate(net.nodes()):\n",
    "    node.id = NODES[i]\n",
    "    net.labels[node] = str(node.id)\n",
    "net.show()\n"
   ]
  },
  {
   "cell_type": "code",
   "execution_count": 65,
   "metadata": {
    "collapsed": true
   },
   "outputs": [],
   "source": [
    "jeelink.send(0, \"Sync\")\n",
    "#log = jeelink.log_received_information(1, log_package_function)"
   ]
  },
  {
   "cell_type": "code",
   "execution_count": 55,
   "metadata": {
    "collapsed": false
   },
   "outputs": [
    {
     "name": "stdout",
     "output_type": "stream",
     "text": [
      "1 {'sn10': 0, 'sn11': 0, 'sn12': 0, 'sn13': 0, 'sn14': 0, 'sn15': 0, 'sn6': 0, 'sn7': 0, 'sn4': 0, 'sn5': 0, 'sn2': 0, 'sn3': 0, 'sn0': 4, 'sn1': 0, 'sn8': 0, 'sn9': 0}\n",
      "2 {'sn10': 0, 'sn11': 0, 'sn12': 0, 'sn13': 0, 'sn14': 0, 'sn15': 0, 'sn6': 0, 'sn7': 0, 'sn4': 0, 'sn5': 0, 'sn2': 0, 'sn3': 0, 'sn0': 4, 'sn1': 0, 'sn8': 0, 'sn9': 0}\n",
      "3 {'sn10': 0, 'sn11': 0, 'sn12': 0, 'sn13': 0, 'sn14': 0, 'sn15': 0, 'sn6': 0, 'sn7': 0, 'sn4': 0, 'sn5': 0, 'sn2': 0, 'sn3': 0, 'sn0': 4, 'sn1': 0, 'sn8': 0, 'sn9': 0}\n",
      "4 {'sn10': 0, 'sn11': 0, 'sn12': 0, 'sn13': 0, 'sn14': 0, 'sn15': 0, 'sn6': 0, 'sn7': 0, 'sn4': 10, 'sn5': 9, 'sn2': 7, 'sn3': 3, 'sn0': 1, 'sn1': 2, 'sn8': 0, 'sn9': 0}\n",
      "6 {'sn10': 0, 'sn11': 0, 'sn12': 0, 'sn13': 0, 'sn14': 0, 'sn15': 0, 'sn6': 0, 'sn7': 0, 'sn4': 0, 'sn5': 0, 'sn2': 0, 'sn3': 0, 'sn0': 7, 'sn1': 0, 'sn8': 0, 'sn9': 0}\n",
      "7 {'sn10': 0, 'sn11': 0, 'sn12': 0, 'sn13': 0, 'sn14': 0, 'sn15': 0, 'sn6': 0, 'sn7': 0, 'sn4': 0, 'sn5': 0, 'sn2': 0, 'sn3': 0, 'sn0': 6, 'sn1': 4, 'sn8': 0, 'sn9': 0}\n",
      "9 {'sn10': 0, 'sn11': 0, 'sn12': 0, 'sn13': 0, 'sn14': 0, 'sn15': 0, 'sn6': 0, 'sn7': 0, 'sn4': 0, 'sn5': 0, 'sn2': 0, 'sn3': 0, 'sn0': 4, 'sn1': 0, 'sn8': 0, 'sn9': 0}\n",
      "10 {'sn10': 0, 'sn11': 0, 'sn12': 0, 'sn13': 0, 'sn14': 0, 'sn15': 0, 'sn6': 0, 'sn7': 0, 'sn4': 0, 'sn5': 0, 'sn2': 0, 'sn3': 0, 'sn0': 4, 'sn1': 0, 'sn8': 0, 'sn9': 0}\n"
     ]
    }
   ],
   "source": [
    "for node in net.nodes():\n",
    "    package = dict((\"sn%d\" % i, 0) for i in range(16))\n",
    "    package.update(dict(map(lambda (i, n): (\"sn%d\" % i, n.id), enumerate(net.adj[node]))))\n",
    "    print node.id, package\n",
    "    jeelink.send(node.id, \"SetNeighbors\", package)"
   ]
  },
  {
   "cell_type": "code",
   "execution_count": 56,
   "metadata": {
    "collapsed": false
   },
   "outputs": [],
   "source": [
    "jeelink.send(0, \"Reset\")\n",
    "#jeelink.send(NODES, \"Reset\")"
   ]
  },
  {
   "cell_type": "code",
   "execution_count": 57,
   "metadata": {
    "collapsed": true
   },
   "outputs": [],
   "source": [
    "jeelink.send(6, \"Wakeup\")\n",
    "jeelink.send(3, \"Wakeup\")\n",
    "jeelink.send(2, \"Wakeup\")"
   ]
  },
  {
   "cell_type": "code",
   "execution_count": 58,
   "metadata": {
    "collapsed": false,
    "scrolled": true
   },
   "outputs": [],
   "source": [
    "jeelink.send(0, \"Sync\")\n",
    "#log = jeelink.log_received_information(1, log_package_function)"
   ]
  },
  {
   "cell_type": "code",
   "execution_count": null,
   "metadata": {
    "collapsed": true
   },
   "outputs": [],
   "source": []
  }
 ],
 "metadata": {
  "kernelspec": {
   "display_name": "Python 2",
   "language": "python",
   "name": "python2"
  },
  "language_info": {
   "codemirror_mode": {
    "name": "ipython",
    "version": 2
   },
   "file_extension": ".py",
   "mimetype": "text/x-python",
   "name": "python",
   "nbconvert_exporter": "python",
   "pygments_lexer": "ipython2",
   "version": "2.7.12"
  }
 },
 "nbformat": 4,
 "nbformat_minor": 1
}
