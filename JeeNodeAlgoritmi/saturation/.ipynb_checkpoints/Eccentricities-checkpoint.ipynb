{
 "cells": [
  {
   "cell_type": "code",
   "execution_count": 73,
   "metadata": {
    "collapsed": false
   },
   "outputs": [
    {
     "name": "stdout",
     "output_type": "stream",
     "text": [
      "Populating the interactive namespace from numpy and matplotlib\n"
     ]
    },
    {
     "ename": "AttributeError",
     "evalue": "'Rf12Demo' object has no attribute 'loghandler'",
     "output_type": "error",
     "traceback": [
      "\u001b[0;31m---------------------------------------------------------------------------\u001b[0m",
      "\u001b[0;31mAttributeError\u001b[0m                            Traceback (most recent call last)",
      "\u001b[0;32m<ipython-input-73-299c99a89e9e>\u001b[0m in \u001b[0;36m<module>\u001b[0;34m()\u001b[0m\n\u001b[1;32m     14\u001b[0m \u001b[0mjeelink\u001b[0m \u001b[0;34m=\u001b[0m \u001b[0mRf12Demo\u001b[0m\u001b[0;34m(\u001b[0m\u001b[0mpayload_header\u001b[0m\u001b[0;34m,\u001b[0m \u001b[0mpayload_body\u001b[0m\u001b[0;34m,\u001b[0m \u001b[0mport\u001b[0m\u001b[0;34m=\u001b[0m\u001b[0;34m'/dev/ttyUSB2'\u001b[0m\u001b[0;34m,\u001b[0m \u001b[0mbaudrate\u001b[0m\u001b[0;34m=\u001b[0m\u001b[0;36m57600\u001b[0m\u001b[0;34m,\u001b[0m \u001b[0mtimeout\u001b[0m\u001b[0;34m=\u001b[0m\u001b[0;36m1\u001b[0m\u001b[0;34m)\u001b[0m\u001b[0;34m\u001b[0m\u001b[0m\n\u001b[1;32m     15\u001b[0m \u001b[0mfileHandler\u001b[0m \u001b[0;34m=\u001b[0m \u001b[0mlogging\u001b[0m\u001b[0;34m.\u001b[0m\u001b[0mhandlers\u001b[0m\u001b[0;34m.\u001b[0m\u001b[0mRotatingFileHandler\u001b[0m\u001b[0;34m(\u001b[0m\u001b[0;34m'rf12demo.log'\u001b[0m\u001b[0;34m)\u001b[0m\u001b[0;34m\u001b[0m\u001b[0m\n\u001b[0;32m---> 16\u001b[0;31m \u001b[0mfileHandler\u001b[0m\u001b[0;34m.\u001b[0m\u001b[0msetFormatter\u001b[0m\u001b[0;34m(\u001b[0m\u001b[0mjeelink\u001b[0m\u001b[0;34m.\u001b[0m\u001b[0mloghandler\u001b[0m\u001b[0;34m.\u001b[0m\u001b[0mformatter\u001b[0m\u001b[0;34m)\u001b[0m\u001b[0;34m\u001b[0m\u001b[0m\n\u001b[0m\u001b[1;32m     17\u001b[0m \u001b[0mjeelink\u001b[0m\u001b[0;34m.\u001b[0m\u001b[0mlogger\u001b[0m\u001b[0;34m.\u001b[0m\u001b[0maddHandler\u001b[0m\u001b[0;34m(\u001b[0m\u001b[0mfileHandler\u001b[0m\u001b[0;34m)\u001b[0m\u001b[0;34m\u001b[0m\u001b[0m\n",
      "\u001b[0;31mAttributeError\u001b[0m: 'Rf12Demo' object has no attribute 'loghandler'"
     ]
    }
   ],
   "source": [
    "from utils import *\n",
    "from rf12demo.rf12demo import Rf12Demo\n",
    "import logging, time\n",
    "import logging\n",
    "from networkx import minimum_spanning_tree\n",
    "plogger = logging.getLogger('pymote')\n",
    "plogger.setLevel(logging.ERROR+1)\n",
    "#%load_ext autoreload\n",
    "#%autoreload 2\n",
    "%pylab inline\n",
    "\n",
    "if \"jeelink\" in locals() and not jeelink.closed:\n",
    "    jeelink.close()\n",
    "jeelink = Rf12Demo(payload_header, payload_body, port='/dev/ttyUSB2', baudrate=57600, timeout=1)\n",
    "fileHandler = logging.handlers.RotatingFileHandler('rf12demo.log')\n",
    "fileHandler.setFormatter(jeelink.loghandler.formatter)\n",
    "jeelink.logger.addHandler(fileHandler)"
   ]
  },
  {
   "cell_type": "code",
   "execution_count": 74,
   "metadata": {
    "collapsed": false
   },
   "outputs": [
    {
     "data": {
      "text/plain": [
       "[]"
      ]
     },
     "execution_count": 74,
     "metadata": {},
     "output_type": "execute_result"
    }
   ],
   "source": [
    "jeelink.send(6, \"SetStatus\", {\"status\": 3})\n",
    "jeelink.log_received_information(1, log_package_function)\n"
   ]
  },
  {
   "cell_type": "code",
   "execution_count": 75,
   "metadata": {
    "collapsed": false
   },
   "outputs": [
    {
     "data": {
      "image/png": "[encoded data removed]",
      "text/plain": [
       "<matplotlib.figure.Figure at 0x7f9dc1224190>"
      ]
     },
     "metadata": {},
     "output_type": "display_data"
    }
   ],
   "source": [
    "from pymote import NetworkGenerator\n",
    "\n",
    "NODES = [1, 2, 3, 4, 6]\n",
    "#NODES = [6, 7, 9, 10]\n",
    "#NODES = [1, 2, 3, 4]\n",
    "\n",
    "\n",
    "net_gen = NetworkGenerator(len(NODES))\n",
    "net = net_gen.generate_random_network()\n",
    "graf = minimum_spanning_tree(net)\n",
    "net.adj = graf.adj\n",
    "for i, node in enumerate(net.nodes()):\n",
    "    node.id = NODES[i]\n",
    "    net.labels[node] = str(node.id)\n",
    "net.show()\n"
   ]
  },
  {
   "cell_type": "code",
   "execution_count": 76,
   "metadata": {
    "collapsed": false
   },
   "outputs": [
    {
     "name": "stdout",
     "output_type": "stream",
     "text": [
      "1 {'sn10': 0, 'sn11': 0, 'sn12': 0, 'sn13': 0, 'sn14': 0, 'sn15': 0, 'sn6': 0, 'sn7': 0, 'sn4': 0, 'sn5': 0, 'sn2': 3, 'sn3': 4, 'sn0': 6, 'sn1': 2, 'sn8': 0, 'sn9': 0}\n",
      "2 {'sn10': 0, 'sn11': 0, 'sn12': 0, 'sn13': 0, 'sn14': 0, 'sn15': 0, 'sn6': 0, 'sn7': 0, 'sn4': 0, 'sn5': 0, 'sn2': 0, 'sn3': 0, 'sn0': 1, 'sn1': 0, 'sn8': 0, 'sn9': 0}\n",
      "3 {'sn10': 0, 'sn11': 0, 'sn12': 0, 'sn13': 0, 'sn14': 0, 'sn15': 0, 'sn6': 0, 'sn7': 0, 'sn4': 0, 'sn5': 0, 'sn2': 0, 'sn3': 0, 'sn0': 1, 'sn1': 0, 'sn8': 0, 'sn9': 0}\n",
      "4 {'sn10': 0, 'sn11': 0, 'sn12': 0, 'sn13': 0, 'sn14': 0, 'sn15': 0, 'sn6': 0, 'sn7': 0, 'sn4': 0, 'sn5': 0, 'sn2': 0, 'sn3': 0, 'sn0': 1, 'sn1': 0, 'sn8': 0, 'sn9': 0}\n",
      "6 {'sn10': 0, 'sn11': 0, 'sn12': 0, 'sn13': 0, 'sn14': 0, 'sn15': 0, 'sn6': 0, 'sn7': 0, 'sn4': 0, 'sn5': 0, 'sn2': 0, 'sn3': 0, 'sn0': 1, 'sn1': 0, 'sn8': 0, 'sn9': 0}\n"
     ]
    }
   ],
   "source": [
    "for node in net.nodes():\n",
    "    package = dict((\"sn%d\" % i, 0) for i in range(16))\n",
    "    package.update(dict(map(lambda (i, n): (\"sn%d\" % i, n.id), enumerate(net.adj[node]))))\n",
    "    print node.id, package\n",
    "    jeelink.send(node.id, \"SetNeighbors\", package)"
   ]
  },
  {
   "cell_type": "code",
   "execution_count": 77,
   "metadata": {
    "collapsed": false
   },
   "outputs": [],
   "source": [
    "jeelink.send(0, \"Reset\")\n",
    "#jeelink.send(NODES, \"Reset\")"
   ]
  },
  {
   "cell_type": "code",
   "execution_count": 253,
   "metadata": {
    "collapsed": false
   },
   "outputs": [],
   "source": [
    "#jeelink.send(6, \"Value\", {\"val\": 21})\n",
    "log = jeelink.log_received_information(1, log_package_function)"
   ]
  },
  {
   "cell_type": "code",
   "execution_count": 78,
   "metadata": {
    "collapsed": false
   },
   "outputs": [
    {
     "name": "stdout",
     "output_type": "stream",
     "text": [
      "1 1\n",
      "2 4\n",
      "3 4\n",
      "4 3\n",
      "6 4\n"
     ]
    }
   ],
   "source": [
    "from random import random\n",
    "for node in NODES:\n",
    "    val = int(random()*len(NODES))\n",
    "    jeelink.send(node, \"Value\", {\"val\": val})\n",
    "    print node, val\n",
    "log = jeelink.log_received_information(1, log_package_function)"
   ]
  },
  {
   "cell_type": "code",
   "execution_count": 79,
   "metadata": {
    "collapsed": true
   },
   "outputs": [],
   "source": [
    "jeelink.send(3, \"Wakeup\")"
   ]
  },
  {
   "cell_type": "code",
   "execution_count": 102,
   "metadata": {
    "collapsed": false
   },
   "outputs": [
    {
     "ename": "error",
     "evalue": "unpack requires a string argument of length 0",
     "output_type": "error",
     "traceback": [
      "\u001b[0;31m---------------------------------------------------------------------------\u001b[0m",
      "\u001b[0;31merror\u001b[0m                                     Traceback (most recent call last)",
      "\u001b[0;32m<ipython-input-102-95102ed9863b>\u001b[0m in \u001b[0;36m<module>\u001b[0;34m()\u001b[0m\n\u001b[0;32m----> 1\u001b[0;31m \u001b[0mlog\u001b[0m \u001b[0;34m=\u001b[0m \u001b[0mjeelink\u001b[0m\u001b[0;34m.\u001b[0m\u001b[0mlog_received_information\u001b[0m\u001b[0;34m(\u001b[0m\u001b[0;36m1\u001b[0m\u001b[0;34m,\u001b[0m \u001b[0mlog_package_function\u001b[0m\u001b[0;34m)\u001b[0m\u001b[0;34m\u001b[0m\u001b[0m\n\u001b[0m",
      "\u001b[0;32m/home/bmo/pymote_env/src/pyrf12demo/rf12demo/rf12demo.pyc\u001b[0m in \u001b[0;36mlog_received_information\u001b[0;34m(self, timeout, log_package_function)\u001b[0m\n\u001b[1;32m    198\u001b[0m                 \u001b[0;32mcontinue\u001b[0m\u001b[0;34m\u001b[0m\u001b[0m\n\u001b[1;32m    199\u001b[0m             \u001b[0mtimer\u001b[0m \u001b[0;34m=\u001b[0m \u001b[0mtime\u001b[0m\u001b[0;34m.\u001b[0m\u001b[0mtime\u001b[0m\u001b[0;34m(\u001b[0m\u001b[0;34m)\u001b[0m\u001b[0;34m+\u001b[0m\u001b[0mtimeout\u001b[0m\u001b[0;34m\u001b[0m\u001b[0m\n\u001b[0;32m--> 200\u001b[0;31m             \u001b[0mdata\u001b[0m \u001b[0;34m=\u001b[0m \u001b[0mself\u001b[0m\u001b[0;34m.\u001b[0m\u001b[0mparse_received_information\u001b[0m\u001b[0;34m(\u001b[0m\u001b[0mline\u001b[0m\u001b[0;34m)\u001b[0m\u001b[0;34m\u001b[0m\u001b[0m\n\u001b[0m\u001b[1;32m    201\u001b[0m             \u001b[0;32mif\u001b[0m \u001b[0mdata\u001b[0m\u001b[0;34m[\u001b[0m\u001b[0;34m\"inf_type\"\u001b[0m\u001b[0;34m]\u001b[0m\u001b[0;34m==\u001b[0m\u001b[0;34m\"package\"\u001b[0m\u001b[0;34m:\u001b[0m\u001b[0;34m\u001b[0m\u001b[0m\n\u001b[1;32m    202\u001b[0m                 \u001b[0mdata\u001b[0m\u001b[0;34m.\u001b[0m\u001b[0mpop\u001b[0m\u001b[0;34m(\u001b[0m\u001b[0;34m\"inf_type\"\u001b[0m\u001b[0;34m)\u001b[0m\u001b[0;34m\u001b[0m\u001b[0m\n",
      "\u001b[0;32m/home/bmo/pymote_env/src/pyrf12demo/rf12demo/rf12demo.pyc\u001b[0m in \u001b[0;36mparse_received_information\u001b[0;34m(self, line)\u001b[0m\n\u001b[1;32m    179\u001b[0m             \u001b[0;32mif\u001b[0m \u001b[0mline\u001b[0m\u001b[0;34m.\u001b[0m\u001b[0mstartswith\u001b[0m\u001b[0;34m(\u001b[0m\u001b[0;34m\"OK\"\u001b[0m\u001b[0;34m)\u001b[0m\u001b[0;34m:\u001b[0m\u001b[0;34m\u001b[0m\u001b[0m\n\u001b[1;32m    180\u001b[0m                 \u001b[0mdata\u001b[0m \u001b[0;34m=\u001b[0m \u001b[0;34m{\u001b[0m\u001b[0;34m\"inf_type\"\u001b[0m\u001b[0;34m:\u001b[0m \u001b[0;34m\"package\"\u001b[0m\u001b[0;34m}\u001b[0m\u001b[0;34m\u001b[0m\u001b[0m\n\u001b[0;32m--> 181\u001b[0;31m                 \u001b[0mdata\u001b[0m\u001b[0;34m.\u001b[0m\u001b[0mupdate\u001b[0m\u001b[0;34m(\u001b[0m\u001b[0mself\u001b[0m\u001b[0;34m.\u001b[0m\u001b[0mparse_received_packet\u001b[0m\u001b[0;34m(\u001b[0m\u001b[0mline\u001b[0m\u001b[0;34m.\u001b[0m\u001b[0msplit\u001b[0m\u001b[0;34m(\u001b[0m\u001b[0;34m)\u001b[0m\u001b[0;34m[\u001b[0m\u001b[0;36m1\u001b[0m\u001b[0;34m]\u001b[0m\u001b[0;34m)\u001b[0m\u001b[0;34m)\u001b[0m\u001b[0;34m\u001b[0m\u001b[0m\n\u001b[0m\u001b[1;32m    182\u001b[0m                 \u001b[0;32mreturn\u001b[0m \u001b[0mdata\u001b[0m\u001b[0;34m\u001b[0m\u001b[0m\n\u001b[1;32m    183\u001b[0m         \u001b[0;32melse\u001b[0m\u001b[0;34m:\u001b[0m\u001b[0;34m\u001b[0m\u001b[0m\n",
      "\u001b[0;32m/home/bmo/pymote_env/src/pyrf12demo/rf12demo/rf12demo.pyc\u001b[0m in \u001b[0;36mparse_received_packet\u001b[0;34m(self, packet)\u001b[0m\n\u001b[1;32m    260\u001b[0m             \u001b[0;32massert\u001b[0m\u001b[0;34m(\u001b[0m\u001b[0mlen\u001b[0m\u001b[0;34m(\u001b[0m\u001b[0mbody_format\u001b[0m\u001b[0;34m)\u001b[0m\u001b[0;34m==\u001b[0m\u001b[0;36m0\u001b[0m \u001b[0;32mor\u001b[0m \u001b[0mlen\u001b[0m\u001b[0;34m(\u001b[0m\u001b[0mbody_format\u001b[0m\u001b[0;34m)\u001b[0m\u001b[0;34m-\u001b[0m\u001b[0;36m1\u001b[0m\u001b[0;34m==\u001b[0m\u001b[0mlen\u001b[0m\u001b[0;34m(\u001b[0m\u001b[0mbody_fields\u001b[0m\u001b[0;34m)\u001b[0m\u001b[0;34m)\u001b[0m\u001b[0;34m\u001b[0m\u001b[0m\n\u001b[1;32m    261\u001b[0m             data.update(zip(body_fields,\n\u001b[0;32m--> 262\u001b[0;31m                         struct.unpack(body_format, packet.decode(\"hex\"))))\n\u001b[0m\u001b[1;32m    263\u001b[0m         \u001b[0;32melse\u001b[0m\u001b[0;34m:\u001b[0m\u001b[0;34m\u001b[0m\u001b[0m\n\u001b[1;32m    264\u001b[0m             \u001b[0;32mraise\u001b[0m \u001b[0mNotImplementedError\u001b[0m\u001b[0;34m(\u001b[0m\u001b[0;34m\"Format must be hex. Use set_format(1).\"\u001b[0m\u001b[0;34m)\u001b[0m\u001b[0;34m\u001b[0m\u001b[0m\n",
      "\u001b[0;31merror\u001b[0m: unpack requires a string argument of length 0"
     ]
    }
   ],
   "source": [
    "log = jeelink.log_received_information(1, log_package_function)"
   ]
  },
  {
   "cell_type": "code",
   "execution_count": 92,
   "metadata": {
    "collapsed": false,
    "scrolled": true
   },
   "outputs": [],
   "source": [
    "jeelink.send(0, \"Sync\")\n",
    "#log = jeelink.log_received_information(1, log_package_function)"
   ]
  },
  {
   "cell_type": "code",
   "execution_count": 32,
   "metadata": {
    "collapsed": false
   },
   "outputs": [],
   "source": [
    "log = jeelink.log_received_information(1, log_package_function)"
   ]
  },
  {
   "cell_type": "code",
   "execution_count": 23,
   "metadata": {
    "collapsed": false
   },
   "outputs": [],
   "source": [
    "from time import sleep\n",
    "for i in range(10):\n",
    "    sleep(5)\n",
    "    jeelink.send(0, \"Sync\")\n",
    "#log = jeelink.log_received_information(1, log_package_function)"
   ]
  },
  {
   "cell_type": "code",
   "execution_count": 71,
   "metadata": {
    "collapsed": true
   },
   "outputs": [],
   "source": [
    "jeelink.send(10, \"SetNeighbors\", {'sn10': 0, 'sn11': 0, 'sn12': 0, 'sn13': 0, 'sn14': 0, 'sn15': 0, 'sn6': 0, 'sn7': 0, 'sn4': 0, 'sn5': 0, 'sn2': 0, 'sn3': 0, 'sn0': 2, 'sn1': 1, 'sn8': 0, 'sn9': 0})"
   ]
  },
  {
   "cell_type": "markdown",
   "metadata": {},
   "source": [
    "### Generating hypercube topology (not in use)"
   ]
  },
  {
   "cell_type": "code",
   "execution_count": null,
   "metadata": {
    "collapsed": false,
    "scrolled": true
   },
   "outputs": [],
   "source": [
    "maxnode = 9\n",
    "for i in range(maxnode+1):\n",
    "    #print i, \"=>\",\n",
    "    for k in range(4):\n",
    "        neighbor = i^(1<<k)\n",
    "        if neighbor and neighbor<=maxnode and i:\n",
    "            print i, neighbor, \",\",\n",
    "            #print \"==\", i^neighbor"
   ]
  },
  {
   "cell_type": "code",
   "execution_count": null,
   "metadata": {
    "collapsed": false
   },
   "outputs": [],
   "source": [
    "from IPython.display import Image\n",
    "Image(\"hypercube.png\")"
   ]
  }
 ],
 "metadata": {
  "kernelspec": {
   "display_name": "Python 2",
   "language": "python",
   "name": "python2"
  },
  "language_info": {
   "codemirror_mode": {
    "name": "ipython",
    "version": 2
   },
   "file_extension": ".py",
   "mimetype": "text/x-python",
   "name": "python",
   "nbconvert_exporter": "python",
   "pygments_lexer": "ipython2",
   "version": "2.7.12"
  }
 },
 "nbformat": 4,
 "nbformat_minor": 1
}
